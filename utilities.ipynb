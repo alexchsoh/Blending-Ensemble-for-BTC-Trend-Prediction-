{
 "cells": [
  {
   "cell_type": "code",
   "execution_count": 14,
   "id": "2f639203-7ba1-4f26-a99a-5c254721531b",
   "metadata": {},
   "outputs": [],
   "source": [
    "import numpy as np\n",
    "import pandas as pd\n",
    "import matplotlib.pyplot as plt\n",
    "\n",
    "import pandas_ta as ta\n",
    "\n",
    "# sklearn imports\n",
    "from sklearn.model_selection import (train_test_split, RandomizedSearchCV, TimeSeriesSplit)\n",
    "from sklearn.preprocessing import StandardScaler, MinMaxScaler, RobustScaler\n",
    "from sklearn.pipeline import Pipeline\n",
    "\n",
    "# metrics\n",
    "from sklearn.metrics import RocCurveDisplay, ConfusionMatrixDisplay\n",
    "from sklearn.metrics import confusion_matrix, classification_report\n",
    "from sklearn.metrics import accuracy_score, roc_curve, auc, precision_score, recall_score, f1_score\n",
    "\n",
    "# import base models\n",
    "from sklearn.svm import SVC\n",
    "from sklearn.linear_model import LogisticRegression\n",
    "from sklearn.tree import DecisionTreeClassifier\n",
    "from sklearn.ensemble import RandomForestClassifier\n",
    "\n",
    "# import meta model\n",
    "from xgboost import XGBClassifier\n",
    "\n",
    "from boruta import BorutaPy\n",
    "import quantstats as qs"
   ]
  },
  {
   "cell_type": "code",
   "execution_count": 17,
   "id": "47dc229f-680e-4729-ad5a-fd5ef36e0d13",
   "metadata": {},
   "outputs": [],
   "source": [
    "def load_and_prepare_data(data):\n",
    "    \"\"\"\n",
    "    Loads BTC 1m data initializes additional columns for analysis.\n",
    "    \n",
    "    \"\"\"\n",
    "    df = pd.read_csv(data, index_col=0)\n",
    "\n",
    "    if not isinstance(df.index, pd.DatatimeIndex):\n",
    "        df.index = pd.to_datetime(df.index)\n",
    "\n",
    "    df['avg_price'] = (df['high'] + df['low'] + df['close']) / 3\n",
    "    df['avg_price_volm'] = df['avg_price'] * df['volume']\n",
    "\n",
    "    return df"
   ]
  },
  {
   "cell_type": "code",
   "execution_count": 18,
   "id": "4d9d358a-1d28-49e0-808e-947f68ebd772",
   "metadata": {},
   "outputs": [],
   "source": [
    "def momentum(df):\n",
    "    \"\"\"\n",
    "    Calculates momentum for price and volume from 1m data, and their respective changes over specified periods.\n",
    "    \n",
    "    \"\"\"\n",
    "    for period in [5, 10, 15, 30, 45]:\n",
    "\n",
    "        # price momentum\n",
    "        df[f'pm{period}'] = df['close'].pct_change(periods=period)\n",
    "        df[f'delta_pm{period}'] = df[f'pm{period}'] - df[f'pm{period}'].shift(1)\n",
    "\n",
    "        # log-volume momentum\n",
    "        df[f'lv{period}'] = np.log(df['volume'] + 1).diff(periods=period)\n",
    "        df[f'delta_lv{period}'] = df[f'lv{period}'].diff(1)"
   ]
  },
  {
   "cell_type": "code",
   "execution_count": 20,
   "id": "d9e3be74-4749-4acd-8446-1e89a2fa3e08",
   "metadata": {},
   "outputs": [],
   "source": [
    "def resample_data(df):\n",
    "    \"\"\"\n",
    "    Resamples the dataframe from 1m intervals to 1hour intervals, applying aggregation functions.\n",
    "    \n",
    "    \"\"\"\n",
    "    ohlc_dict = {'open': 'first', 'high': 'max', 'low': 'min', 'close': 'last'}\n",
    "    df_1h = df.resample('1h').agg(ohlc_dict)\n",
    "    df_1h['VWAP_1h'] = df.resample('1h').apply(\n",
    "        lambda x: (x['avg_price'] * x['avg_price_volm']).sum() / x['avg_price_volm'].sum()\n",
    "    )\n",
    "\n",
    "    return df_1h"
   ]
  },
  {
   "cell_type": "code",
   "execution_count": null,
   "id": "1bb483fa-1e16-41e0-a18e-c3848749b784",
   "metadata": {},
   "outputs": [],
   "source": []
  },
  {
   "cell_type": "code",
   "execution_count": null,
   "id": "be9f6900-5328-49fc-820b-1bc0b46596f5",
   "metadata": {},
   "outputs": [],
   "source": []
  },
  {
   "cell_type": "code",
   "execution_count": null,
   "id": "dda30514-666d-4406-a27a-6df3a96b287b",
   "metadata": {},
   "outputs": [],
   "source": []
  },
  {
   "cell_type": "code",
   "execution_count": null,
   "id": "5114a32c-ca3b-47d4-8d40-c0bdc8579f54",
   "metadata": {},
   "outputs": [],
   "source": []
  },
  {
   "cell_type": "code",
   "execution_count": null,
   "id": "7baec53f-939b-402e-9e32-f1fd7c640f21",
   "metadata": {},
   "outputs": [],
   "source": []
  },
  {
   "cell_type": "code",
   "execution_count": null,
   "id": "d9cc01f8-f423-4a54-98e8-fdd442d6d0ff",
   "metadata": {},
   "outputs": [],
   "source": []
  },
  {
   "cell_type": "code",
   "execution_count": null,
   "id": "7662aca3-6d37-470e-98a1-c453787c0a2d",
   "metadata": {},
   "outputs": [],
   "source": []
  },
  {
   "cell_type": "code",
   "execution_count": null,
   "id": "05c03fe8-bc31-42e5-b223-70b61df950c2",
   "metadata": {},
   "outputs": [],
   "source": []
  },
  {
   "cell_type": "code",
   "execution_count": null,
   "id": "e48090d8-b726-4148-81af-685ff4972609",
   "metadata": {},
   "outputs": [],
   "source": []
  },
  {
   "cell_type": "code",
   "execution_count": null,
   "id": "cd4f4938-7712-4b01-b554-c04f91d866fc",
   "metadata": {},
   "outputs": [],
   "source": []
  },
  {
   "cell_type": "code",
   "execution_count": null,
   "id": "8e3d05a2-1bf8-4152-a001-8f4bc0750a1a",
   "metadata": {},
   "outputs": [],
   "source": []
  }
 ],
 "metadata": {
  "kernelspec": {
   "display_name": "Python 3 (ipykernel)",
   "language": "python",
   "name": "python3"
  },
  "language_info": {
   "codemirror_mode": {
    "name": "ipython",
    "version": 3
   },
   "file_extension": ".py",
   "mimetype": "text/x-python",
   "name": "python",
   "nbconvert_exporter": "python",
   "pygments_lexer": "ipython3",
   "version": "3.12.0"
  }
 },
 "nbformat": 4,
 "nbformat_minor": 5
}
